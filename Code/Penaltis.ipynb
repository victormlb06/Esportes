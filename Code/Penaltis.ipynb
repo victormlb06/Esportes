{
  "nbformat": 4,
  "nbformat_minor": 0,
  "metadata": {
    "colab": {
      "name": "Penaltis.ipynb",
      "provenance": [],
      "toc_visible": true
    },
    "kernelspec": {
      "name": "python3",
      "display_name": "Python 3"
    },
    "language_info": {
      "name": "python"
    }
  },
  "cells": [
    {
      "cell_type": "markdown",
      "metadata": {
        "id": "YN2YT9BgdSmp"
      },
      "source": [
        "# Importando os dados"
      ]
    },
    {
      "cell_type": "code",
      "metadata": {
        "id": "AvtoYDiIZQmC"
      },
      "source": [
        "import pandas as pd\n",
        "import numpy as np\n",
        "import seaborn as sns\n",
        "import matplotlib.pyplot as plt\n",
        "import math"
      ],
      "execution_count": null,
      "outputs": []
    },
    {
      "cell_type": "code",
      "metadata": {
        "colab": {
          "base_uri": "https://localhost:8080/"
        },
        "id": "zV_MnFuzZiDY",
        "outputId": "531fa725-b5e4-442f-d7a8-db9239749c6d"
      },
      "source": [
        "Penalti_dataset = pd.read_excel(\"Penalti.xlsx\")\n",
        "Penalti_dataset.head(50)"
      ],
      "execution_count": null,
      "outputs": [
        {
          "output_type": "execute_result",
          "data": {
            "text/html": [
              "<div>\n",
              "<style scoped>\n",
              "    .dataframe tbody tr th:only-of-type {\n",
              "        vertical-align: middle;\n",
              "    }\n",
              "\n",
              "    .dataframe tbody tr th {\n",
              "        vertical-align: top;\n",
              "    }\n",
              "\n",
              "    .dataframe thead th {\n",
              "        text-align: right;\n",
              "    }\n",
              "</style>\n",
              "<table border=\"1\" class=\"dataframe\">\n",
              "  <thead>\n",
              "    <tr style=\"text-align: right;\">\n",
              "      <th></th>\n",
              "      <th>ID_Batedor</th>\n",
              "      <th>Nome_Batedor</th>\n",
              "      <th>Pe</th>\n",
              "      <th>Posicao</th>\n",
              "      <th>Resultado</th>\n",
              "      <th>Ocasiao</th>\n",
              "      <th>Forca</th>\n",
              "      <th>ID_Goleiro</th>\n",
              "      <th>Nome_Goleiro</th>\n",
              "      <th>Lado_Certo</th>\n",
              "      <th>Defesa</th>\n",
              "    </tr>\n",
              "  </thead>\n",
              "  <tbody>\n",
              "    <tr>\n",
              "      <th>0</th>\n",
              "      <td>1</td>\n",
              "      <td>Raphael Veiga</td>\n",
              "      <td>E</td>\n",
              "      <td>5</td>\n",
              "      <td>1</td>\n",
              "      <td>Copa</td>\n",
              "      <td>1</td>\n",
              "      <td>1</td>\n",
              "      <td>Diego Alves</td>\n",
              "      <td>0</td>\n",
              "      <td>0</td>\n",
              "    </tr>\n",
              "    <tr>\n",
              "      <th>1</th>\n",
              "      <td>2</td>\n",
              "      <td>Arrascaeta</td>\n",
              "      <td>D</td>\n",
              "      <td>1</td>\n",
              "      <td>1</td>\n",
              "      <td>Copa</td>\n",
              "      <td>1</td>\n",
              "      <td>2</td>\n",
              "      <td>Weverton</td>\n",
              "      <td>1</td>\n",
              "      <td>0</td>\n",
              "    </tr>\n",
              "    <tr>\n",
              "      <th>2</th>\n",
              "      <td>3</td>\n",
              "      <td>Gustavo Gomez</td>\n",
              "      <td>D</td>\n",
              "      <td>2</td>\n",
              "      <td>1</td>\n",
              "      <td>Copa</td>\n",
              "      <td>0</td>\n",
              "      <td>1</td>\n",
              "      <td>Diego Alves</td>\n",
              "      <td>0</td>\n",
              "      <td>0</td>\n",
              "    </tr>\n",
              "    <tr>\n",
              "      <th>3</th>\n",
              "      <td>4</td>\n",
              "      <td>Filipe Luis</td>\n",
              "      <td>E</td>\n",
              "      <td>10</td>\n",
              "      <td>0</td>\n",
              "      <td>Copa</td>\n",
              "      <td>0</td>\n",
              "      <td>2</td>\n",
              "      <td>Weverton</td>\n",
              "      <td>0</td>\n",
              "      <td>0</td>\n",
              "    </tr>\n",
              "    <tr>\n",
              "      <th>4</th>\n",
              "      <td>5</td>\n",
              "      <td>Gustavo Scarpa</td>\n",
              "      <td>E</td>\n",
              "      <td>4</td>\n",
              "      <td>1</td>\n",
              "      <td>Copa</td>\n",
              "      <td>1</td>\n",
              "      <td>1</td>\n",
              "      <td>Diego Alves</td>\n",
              "      <td>0</td>\n",
              "      <td>0</td>\n",
              "    </tr>\n",
              "    <tr>\n",
              "      <th>5</th>\n",
              "      <td>6</td>\n",
              "      <td>Matheuzinho</td>\n",
              "      <td>D</td>\n",
              "      <td>1</td>\n",
              "      <td>0</td>\n",
              "      <td>Copa</td>\n",
              "      <td>1</td>\n",
              "      <td>2</td>\n",
              "      <td>Weverton</td>\n",
              "      <td>1</td>\n",
              "      <td>1</td>\n",
              "    </tr>\n",
              "    <tr>\n",
              "      <th>6</th>\n",
              "      <td>7</td>\n",
              "      <td>Luan</td>\n",
              "      <td>D</td>\n",
              "      <td>5</td>\n",
              "      <td>0</td>\n",
              "      <td>Copa</td>\n",
              "      <td>0</td>\n",
              "      <td>1</td>\n",
              "      <td>Diego Alves</td>\n",
              "      <td>1</td>\n",
              "      <td>1</td>\n",
              "    </tr>\n",
              "    <tr>\n",
              "      <th>7</th>\n",
              "      <td>8</td>\n",
              "      <td>Vitinho</td>\n",
              "      <td>D</td>\n",
              "      <td>4</td>\n",
              "      <td>1</td>\n",
              "      <td>Copa</td>\n",
              "      <td>1</td>\n",
              "      <td>2</td>\n",
              "      <td>Weverton</td>\n",
              "      <td>0</td>\n",
              "      <td>0</td>\n",
              "    </tr>\n",
              "    <tr>\n",
              "      <th>8</th>\n",
              "      <td>9</td>\n",
              "      <td>Danilo</td>\n",
              "      <td>E</td>\n",
              "      <td>10</td>\n",
              "      <td>0</td>\n",
              "      <td>Copa</td>\n",
              "      <td>1</td>\n",
              "      <td>1</td>\n",
              "      <td>Diego Alves</td>\n",
              "      <td>1</td>\n",
              "      <td>0</td>\n",
              "    </tr>\n",
              "    <tr>\n",
              "      <th>9</th>\n",
              "      <td>10</td>\n",
              "      <td>Gabriel Barbosa</td>\n",
              "      <td>E</td>\n",
              "      <td>1</td>\n",
              "      <td>1</td>\n",
              "      <td>Copa</td>\n",
              "      <td>1</td>\n",
              "      <td>2</td>\n",
              "      <td>Weverton</td>\n",
              "      <td>1</td>\n",
              "      <td>0</td>\n",
              "    </tr>\n",
              "    <tr>\n",
              "      <th>10</th>\n",
              "      <td>11</td>\n",
              "      <td>Matias Vina</td>\n",
              "      <td>E</td>\n",
              "      <td>3</td>\n",
              "      <td>1</td>\n",
              "      <td>Copa</td>\n",
              "      <td>1</td>\n",
              "      <td>1</td>\n",
              "      <td>Diego Alves</td>\n",
              "      <td>1</td>\n",
              "      <td>0</td>\n",
              "    </tr>\n",
              "    <tr>\n",
              "      <th>11</th>\n",
              "      <td>12</td>\n",
              "      <td>Joao Gomes</td>\n",
              "      <td>D</td>\n",
              "      <td>4</td>\n",
              "      <td>1</td>\n",
              "      <td>Copa</td>\n",
              "      <td>1</td>\n",
              "      <td>2</td>\n",
              "      <td>Weverton</td>\n",
              "      <td>1</td>\n",
              "      <td>0</td>\n",
              "    </tr>\n",
              "    <tr>\n",
              "      <th>12</th>\n",
              "      <td>13</td>\n",
              "      <td>Gabriel Menino</td>\n",
              "      <td>D</td>\n",
              "      <td>5</td>\n",
              "      <td>0</td>\n",
              "      <td>Copa</td>\n",
              "      <td>0</td>\n",
              "      <td>1</td>\n",
              "      <td>Diego Alves</td>\n",
              "      <td>1</td>\n",
              "      <td>1</td>\n",
              "    </tr>\n",
              "    <tr>\n",
              "      <th>13</th>\n",
              "      <td>14</td>\n",
              "      <td>Pepe</td>\n",
              "      <td>D</td>\n",
              "      <td>1</td>\n",
              "      <td>0</td>\n",
              "      <td>Copa</td>\n",
              "      <td>0</td>\n",
              "      <td>2</td>\n",
              "      <td>Weverton</td>\n",
              "      <td>1</td>\n",
              "      <td>1</td>\n",
              "    </tr>\n",
              "    <tr>\n",
              "      <th>14</th>\n",
              "      <td>15</td>\n",
              "      <td>Gabriel Veron</td>\n",
              "      <td>D</td>\n",
              "      <td>7</td>\n",
              "      <td>1</td>\n",
              "      <td>Copa</td>\n",
              "      <td>1</td>\n",
              "      <td>1</td>\n",
              "      <td>Diego Alves</td>\n",
              "      <td>1</td>\n",
              "      <td>0</td>\n",
              "    </tr>\n",
              "    <tr>\n",
              "      <th>15</th>\n",
              "      <td>16</td>\n",
              "      <td>Michael</td>\n",
              "      <td>D</td>\n",
              "      <td>8</td>\n",
              "      <td>1</td>\n",
              "      <td>Copa</td>\n",
              "      <td>1</td>\n",
              "      <td>2</td>\n",
              "      <td>Weverton</td>\n",
              "      <td>0</td>\n",
              "      <td>0</td>\n",
              "    </tr>\n",
              "    <tr>\n",
              "      <th>16</th>\n",
              "      <td>17</td>\n",
              "      <td>Mayke</td>\n",
              "      <td>D</td>\n",
              "      <td>3</td>\n",
              "      <td>0</td>\n",
              "      <td>Copa</td>\n",
              "      <td>1</td>\n",
              "      <td>1</td>\n",
              "      <td>Diego Alves</td>\n",
              "      <td>1</td>\n",
              "      <td>1</td>\n",
              "    </tr>\n",
              "    <tr>\n",
              "      <th>17</th>\n",
              "      <td>18</td>\n",
              "      <td>Rodrigo Caio</td>\n",
              "      <td>D</td>\n",
              "      <td>3</td>\n",
              "      <td>1</td>\n",
              "      <td>Copa</td>\n",
              "      <td>1</td>\n",
              "      <td>2</td>\n",
              "      <td>Weverton</td>\n",
              "      <td>0</td>\n",
              "      <td>0</td>\n",
              "    </tr>\n",
              "    <tr>\n",
              "      <th>18</th>\n",
              "      <td>10</td>\n",
              "      <td>Gabriel Barbosa</td>\n",
              "      <td>E</td>\n",
              "      <td>2</td>\n",
              "      <td>1</td>\n",
              "      <td>Copa</td>\n",
              "      <td>0</td>\n",
              "      <td>3</td>\n",
              "      <td>Paulo Victor</td>\n",
              "      <td>0</td>\n",
              "      <td>0</td>\n",
              "    </tr>\n",
              "    <tr>\n",
              "      <th>19</th>\n",
              "      <td>19</td>\n",
              "      <td>Pedro</td>\n",
              "      <td>D</td>\n",
              "      <td>2</td>\n",
              "      <td>0</td>\n",
              "      <td>Campeonato</td>\n",
              "      <td>0</td>\n",
              "      <td>4</td>\n",
              "      <td>Thiago Volpi</td>\n",
              "      <td>1</td>\n",
              "      <td>1</td>\n",
              "    </tr>\n",
              "    <tr>\n",
              "      <th>20</th>\n",
              "      <td>20</td>\n",
              "      <td>Keno</td>\n",
              "      <td>D</td>\n",
              "      <td>5</td>\n",
              "      <td>0</td>\n",
              "      <td>Campeonato</td>\n",
              "      <td>0</td>\n",
              "      <td>5</td>\n",
              "      <td>Santos</td>\n",
              "      <td>1</td>\n",
              "      <td>1</td>\n",
              "    </tr>\n",
              "    <tr>\n",
              "      <th>21</th>\n",
              "      <td>20</td>\n",
              "      <td>Keno</td>\n",
              "      <td>D</td>\n",
              "      <td>2</td>\n",
              "      <td>0</td>\n",
              "      <td>Campeonato</td>\n",
              "      <td>0</td>\n",
              "      <td>6</td>\n",
              "      <td>Diego Cavalieri</td>\n",
              "      <td>1</td>\n",
              "      <td>1</td>\n",
              "    </tr>\n",
              "    <tr>\n",
              "      <th>22</th>\n",
              "      <td>20</td>\n",
              "      <td>Keno</td>\n",
              "      <td>D</td>\n",
              "      <td>3</td>\n",
              "      <td>1</td>\n",
              "      <td>Campeonato</td>\n",
              "      <td>0</td>\n",
              "      <td>7</td>\n",
              "      <td>Fernando Miguel</td>\n",
              "      <td>0</td>\n",
              "      <td>0</td>\n",
              "    </tr>\n",
              "    <tr>\n",
              "      <th>23</th>\n",
              "      <td>21</td>\n",
              "      <td>Clayson</td>\n",
              "      <td>D</td>\n",
              "      <td>2</td>\n",
              "      <td>1</td>\n",
              "      <td>Campeonato</td>\n",
              "      <td>0</td>\n",
              "      <td>8</td>\n",
              "      <td>Fernando Prass</td>\n",
              "      <td>0</td>\n",
              "      <td>0</td>\n",
              "    </tr>\n",
              "    <tr>\n",
              "      <th>24</th>\n",
              "      <td>21</td>\n",
              "      <td>Clayson</td>\n",
              "      <td>D</td>\n",
              "      <td>3</td>\n",
              "      <td>1</td>\n",
              "      <td>Campeonato</td>\n",
              "      <td>1</td>\n",
              "      <td>1</td>\n",
              "      <td>Diego Alves</td>\n",
              "      <td>0</td>\n",
              "      <td>0</td>\n",
              "    </tr>\n",
              "    <tr>\n",
              "      <th>25</th>\n",
              "      <td>21</td>\n",
              "      <td>Clayson</td>\n",
              "      <td>D</td>\n",
              "      <td>3</td>\n",
              "      <td>1</td>\n",
              "      <td>Campeonato</td>\n",
              "      <td>1</td>\n",
              "      <td>9</td>\n",
              "      <td>Marcelo Lomba</td>\n",
              "      <td>1</td>\n",
              "      <td>0</td>\n",
              "    </tr>\n",
              "    <tr>\n",
              "      <th>26</th>\n",
              "      <td>21</td>\n",
              "      <td>Clayson</td>\n",
              "      <td>D</td>\n",
              "      <td>3</td>\n",
              "      <td>0</td>\n",
              "      <td>Campeonato</td>\n",
              "      <td>0</td>\n",
              "      <td>5</td>\n",
              "      <td>Santos</td>\n",
              "      <td>1</td>\n",
              "      <td>1</td>\n",
              "    </tr>\n",
              "    <tr>\n",
              "      <th>27</th>\n",
              "      <td>10</td>\n",
              "      <td>Gabriel Barbosa</td>\n",
              "      <td>E</td>\n",
              "      <td>10</td>\n",
              "      <td>0</td>\n",
              "      <td>Campeonato</td>\n",
              "      <td>1</td>\n",
              "      <td>10</td>\n",
              "      <td>Gatito Fernandez</td>\n",
              "      <td>0</td>\n",
              "      <td>0</td>\n",
              "    </tr>\n",
              "    <tr>\n",
              "      <th>28</th>\n",
              "      <td>10</td>\n",
              "      <td>Gabriel Barbosa</td>\n",
              "      <td>E</td>\n",
              "      <td>1</td>\n",
              "      <td>1</td>\n",
              "      <td>Campeonato</td>\n",
              "      <td>0</td>\n",
              "      <td>11</td>\n",
              "      <td>Cleiton</td>\n",
              "      <td>0</td>\n",
              "      <td>0</td>\n",
              "    </tr>\n",
              "    <tr>\n",
              "      <th>29</th>\n",
              "      <td>10</td>\n",
              "      <td>Gabriel Barbosa</td>\n",
              "      <td>E</td>\n",
              "      <td>3</td>\n",
              "      <td>1</td>\n",
              "      <td>Campeonato</td>\n",
              "      <td>0</td>\n",
              "      <td>7</td>\n",
              "      <td>Fernando Miguel</td>\n",
              "      <td>0</td>\n",
              "      <td>0</td>\n",
              "    </tr>\n",
              "    <tr>\n",
              "      <th>30</th>\n",
              "      <td>10</td>\n",
              "      <td>Gabriel Barbosa</td>\n",
              "      <td>E</td>\n",
              "      <td>4</td>\n",
              "      <td>1</td>\n",
              "      <td>Campeonato</td>\n",
              "      <td>1</td>\n",
              "      <td>10</td>\n",
              "      <td>Gatito Fernandez</td>\n",
              "      <td>0</td>\n",
              "      <td>0</td>\n",
              "    </tr>\n",
              "    <tr>\n",
              "      <th>31</th>\n",
              "      <td>10</td>\n",
              "      <td>Gabriel Barbosa</td>\n",
              "      <td>E</td>\n",
              "      <td>3</td>\n",
              "      <td>1</td>\n",
              "      <td>Campeonato</td>\n",
              "      <td>1</td>\n",
              "      <td>12</td>\n",
              "      <td>Felipe Alves</td>\n",
              "      <td>1</td>\n",
              "      <td>0</td>\n",
              "    </tr>\n",
              "    <tr>\n",
              "      <th>32</th>\n",
              "      <td>22</td>\n",
              "      <td>Alerrando</td>\n",
              "      <td>D</td>\n",
              "      <td>2</td>\n",
              "      <td>0</td>\n",
              "      <td>Campeonato</td>\n",
              "      <td>0</td>\n",
              "      <td>7</td>\n",
              "      <td>Fernando Miguel</td>\n",
              "      <td>1</td>\n",
              "      <td>1</td>\n",
              "    </tr>\n",
              "    <tr>\n",
              "      <th>33</th>\n",
              "      <td>23</td>\n",
              "      <td>Eduardo Vargas</td>\n",
              "      <td>D</td>\n",
              "      <td>5</td>\n",
              "      <td>0</td>\n",
              "      <td>Campeonato</td>\n",
              "      <td>0</td>\n",
              "      <td>12</td>\n",
              "      <td>Felipe Alves</td>\n",
              "      <td>1</td>\n",
              "      <td>1</td>\n",
              "    </tr>\n",
              "    <tr>\n",
              "      <th>34</th>\n",
              "      <td>24</td>\n",
              "      <td>Juninho</td>\n",
              "      <td>D</td>\n",
              "      <td>3</td>\n",
              "      <td>1</td>\n",
              "      <td>Campeonato</td>\n",
              "      <td>0</td>\n",
              "      <td>13</td>\n",
              "      <td>João Paulo</td>\n",
              "      <td>0</td>\n",
              "      <td>0</td>\n",
              "    </tr>\n",
              "    <tr>\n",
              "      <th>35</th>\n",
              "      <td>25</td>\n",
              "      <td>Jean Mota</td>\n",
              "      <td>E</td>\n",
              "      <td>2</td>\n",
              "      <td>0</td>\n",
              "      <td>Campeonato</td>\n",
              "      <td>0</td>\n",
              "      <td>12</td>\n",
              "      <td>Felipe Alves</td>\n",
              "      <td>1</td>\n",
              "      <td>1</td>\n",
              "    </tr>\n",
              "    <tr>\n",
              "      <th>36</th>\n",
              "      <td>26</td>\n",
              "      <td>Rodriguinho</td>\n",
              "      <td>D</td>\n",
              "      <td>2</td>\n",
              "      <td>1</td>\n",
              "      <td>Campeonato</td>\n",
              "      <td>0</td>\n",
              "      <td>14</td>\n",
              "      <td>Wilson</td>\n",
              "      <td>0</td>\n",
              "      <td>0</td>\n",
              "    </tr>\n",
              "    <tr>\n",
              "      <th>37</th>\n",
              "      <td>26</td>\n",
              "      <td>Rodriguinho</td>\n",
              "      <td>D</td>\n",
              "      <td>1</td>\n",
              "      <td>1</td>\n",
              "      <td>Campeonato</td>\n",
              "      <td>1</td>\n",
              "      <td>0</td>\n",
              "      <td>None</td>\n",
              "      <td>1</td>\n",
              "      <td>1</td>\n",
              "    </tr>\n",
              "    <tr>\n",
              "      <th>38</th>\n",
              "      <td>27</td>\n",
              "      <td>Jean Pyerre</td>\n",
              "      <td>D</td>\n",
              "      <td>1</td>\n",
              "      <td>0</td>\n",
              "      <td>Campeonato</td>\n",
              "      <td>0</td>\n",
              "      <td>14</td>\n",
              "      <td>Wilson</td>\n",
              "      <td>1</td>\n",
              "      <td>1</td>\n",
              "    </tr>\n",
              "    <tr>\n",
              "      <th>39</th>\n",
              "      <td>28</td>\n",
              "      <td>Luiz Adriano</td>\n",
              "      <td>D</td>\n",
              "      <td>3</td>\n",
              "      <td>1</td>\n",
              "      <td>Campeonato</td>\n",
              "      <td>0</td>\n",
              "      <td>15</td>\n",
              "      <td>Cassio</td>\n",
              "      <td>0</td>\n",
              "      <td>0</td>\n",
              "    </tr>\n",
              "    <tr>\n",
              "      <th>40</th>\n",
              "      <td>28</td>\n",
              "      <td>Luiz Adriano</td>\n",
              "      <td>D</td>\n",
              "      <td>3</td>\n",
              "      <td>0</td>\n",
              "      <td>Campeonato</td>\n",
              "      <td>1</td>\n",
              "      <td>7</td>\n",
              "      <td>Fernando Miguel</td>\n",
              "      <td>1</td>\n",
              "      <td>0</td>\n",
              "    </tr>\n",
              "    <tr>\n",
              "      <th>41</th>\n",
              "      <td>29</td>\n",
              "      <td>William</td>\n",
              "      <td>D</td>\n",
              "      <td>5</td>\n",
              "      <td>0</td>\n",
              "      <td>Campeonato</td>\n",
              "      <td>0</td>\n",
              "      <td>6</td>\n",
              "      <td>Diego Cavalieri</td>\n",
              "      <td>1</td>\n",
              "      <td>1</td>\n",
              "    </tr>\n",
              "    <tr>\n",
              "      <th>42</th>\n",
              "      <td>30</td>\n",
              "      <td>Hyoran</td>\n",
              "      <td>D</td>\n",
              "      <td>10</td>\n",
              "      <td>0</td>\n",
              "      <td>Campeonato</td>\n",
              "      <td>1</td>\n",
              "      <td>7</td>\n",
              "      <td>Fernando Miguel</td>\n",
              "      <td>0</td>\n",
              "      <td>0</td>\n",
              "    </tr>\n",
              "    <tr>\n",
              "      <th>43</th>\n",
              "      <td>30</td>\n",
              "      <td>Hyoran</td>\n",
              "      <td>D</td>\n",
              "      <td>4</td>\n",
              "      <td>1</td>\n",
              "      <td>Campeonato</td>\n",
              "      <td>1</td>\n",
              "      <td>0</td>\n",
              "      <td>None</td>\n",
              "      <td>0</td>\n",
              "      <td>0</td>\n",
              "    </tr>\n",
              "    <tr>\n",
              "      <th>44</th>\n",
              "      <td>31</td>\n",
              "      <td>Osvaldo</td>\n",
              "      <td>D</td>\n",
              "      <td>10</td>\n",
              "      <td>0</td>\n",
              "      <td>Campeonato</td>\n",
              "      <td>1</td>\n",
              "      <td>0</td>\n",
              "      <td>None</td>\n",
              "      <td>1</td>\n",
              "      <td>0</td>\n",
              "    </tr>\n",
              "    <tr>\n",
              "      <th>45</th>\n",
              "      <td>32</td>\n",
              "      <td>Thiago Galhardo</td>\n",
              "      <td>D</td>\n",
              "      <td>1</td>\n",
              "      <td>0</td>\n",
              "      <td>Campeonato</td>\n",
              "      <td>1</td>\n",
              "      <td>16</td>\n",
              "      <td>Jean</td>\n",
              "      <td>1</td>\n",
              "      <td>1</td>\n",
              "    </tr>\n",
              "    <tr>\n",
              "      <th>46</th>\n",
              "      <td>32</td>\n",
              "      <td>Thiago Galhardo</td>\n",
              "      <td>D</td>\n",
              "      <td>7</td>\n",
              "      <td>1</td>\n",
              "      <td>Campeonato</td>\n",
              "      <td>1</td>\n",
              "      <td>2</td>\n",
              "      <td>Weverton</td>\n",
              "      <td>1</td>\n",
              "      <td>0</td>\n",
              "    </tr>\n",
              "    <tr>\n",
              "      <th>47</th>\n",
              "      <td>32</td>\n",
              "      <td>Thiago Galhardo</td>\n",
              "      <td>D</td>\n",
              "      <td>7</td>\n",
              "      <td>1</td>\n",
              "      <td>Campeonato</td>\n",
              "      <td>1</td>\n",
              "      <td>0</td>\n",
              "      <td>None</td>\n",
              "      <td>0</td>\n",
              "      <td>0</td>\n",
              "    </tr>\n",
              "    <tr>\n",
              "      <th>48</th>\n",
              "      <td>32</td>\n",
              "      <td>Thiago Galhardo</td>\n",
              "      <td>D</td>\n",
              "      <td>1</td>\n",
              "      <td>1</td>\n",
              "      <td>Campeonato</td>\n",
              "      <td>1</td>\n",
              "      <td>0</td>\n",
              "      <td>None</td>\n",
              "      <td>1</td>\n",
              "      <td>0</td>\n",
              "    </tr>\n",
              "    <tr>\n",
              "      <th>49</th>\n",
              "      <td>32</td>\n",
              "      <td>Thiago Galhardo</td>\n",
              "      <td>D</td>\n",
              "      <td>4</td>\n",
              "      <td>1</td>\n",
              "      <td>Campeonato</td>\n",
              "      <td>1</td>\n",
              "      <td>7</td>\n",
              "      <td>Fernando Miguel</td>\n",
              "      <td>0</td>\n",
              "      <td>0</td>\n",
              "    </tr>\n",
              "  </tbody>\n",
              "</table>\n",
              "</div>"
            ],
            "text/plain": [
              "    ID_Batedor     Nome_Batedor Pe  ...      Nome_Goleiro  Lado_Certo Defesa\n",
              "0            1    Raphael Veiga  E  ...       Diego Alves           0      0\n",
              "1            2       Arrascaeta  D  ...          Weverton           1      0\n",
              "2            3    Gustavo Gomez  D  ...       Diego Alves           0      0\n",
              "3            4      Filipe Luis  E  ...          Weverton           0      0\n",
              "4            5   Gustavo Scarpa  E  ...       Diego Alves           0      0\n",
              "5            6      Matheuzinho  D  ...          Weverton           1      1\n",
              "6            7             Luan  D  ...       Diego Alves           1      1\n",
              "7            8          Vitinho  D  ...          Weverton           0      0\n",
              "8            9           Danilo  E  ...       Diego Alves           1      0\n",
              "9           10  Gabriel Barbosa  E  ...          Weverton           1      0\n",
              "10          11      Matias Vina  E  ...       Diego Alves           1      0\n",
              "11          12       Joao Gomes  D  ...          Weverton           1      0\n",
              "12          13   Gabriel Menino  D  ...       Diego Alves           1      1\n",
              "13          14             Pepe  D  ...          Weverton           1      1\n",
              "14          15    Gabriel Veron  D  ...       Diego Alves           1      0\n",
              "15          16          Michael  D  ...          Weverton           0      0\n",
              "16          17            Mayke  D  ...       Diego Alves           1      1\n",
              "17          18     Rodrigo Caio  D  ...          Weverton           0      0\n",
              "18          10  Gabriel Barbosa  E  ...      Paulo Victor           0      0\n",
              "19          19            Pedro  D  ...      Thiago Volpi           1      1\n",
              "20          20             Keno  D  ...            Santos           1      1\n",
              "21          20             Keno  D  ...   Diego Cavalieri           1      1\n",
              "22          20             Keno  D  ...   Fernando Miguel           0      0\n",
              "23          21          Clayson  D  ...    Fernando Prass           0      0\n",
              "24          21          Clayson  D  ...       Diego Alves           0      0\n",
              "25          21          Clayson  D  ...     Marcelo Lomba           1      0\n",
              "26          21          Clayson  D  ...            Santos           1      1\n",
              "27          10  Gabriel Barbosa  E  ...  Gatito Fernandez           0      0\n",
              "28          10  Gabriel Barbosa  E  ...           Cleiton           0      0\n",
              "29          10  Gabriel Barbosa  E  ...   Fernando Miguel           0      0\n",
              "30          10  Gabriel Barbosa  E  ...  Gatito Fernandez           0      0\n",
              "31          10  Gabriel Barbosa  E  ...      Felipe Alves           1      0\n",
              "32          22        Alerrando  D  ...   Fernando Miguel           1      1\n",
              "33          23   Eduardo Vargas  D  ...      Felipe Alves           1      1\n",
              "34          24          Juninho  D  ...        João Paulo           0      0\n",
              "35          25        Jean Mota  E  ...      Felipe Alves           1      1\n",
              "36          26      Rodriguinho  D  ...            Wilson           0      0\n",
              "37          26      Rodriguinho  D  ...              None           1      1\n",
              "38          27      Jean Pyerre  D  ...            Wilson           1      1\n",
              "39          28     Luiz Adriano  D  ...            Cassio           0      0\n",
              "40          28     Luiz Adriano  D  ...   Fernando Miguel           1      0\n",
              "41          29          William  D  ...   Diego Cavalieri           1      1\n",
              "42          30           Hyoran  D  ...   Fernando Miguel           0      0\n",
              "43          30           Hyoran  D  ...              None           0      0\n",
              "44          31          Osvaldo  D  ...              None           1      0\n",
              "45          32  Thiago Galhardo  D  ...              Jean           1      1\n",
              "46          32  Thiago Galhardo  D  ...          Weverton           1      0\n",
              "47          32  Thiago Galhardo  D  ...              None           0      0\n",
              "48          32  Thiago Galhardo  D  ...              None           1      0\n",
              "49          32  Thiago Galhardo  D  ...   Fernando Miguel           0      0\n",
              "\n",
              "[50 rows x 11 columns]"
            ]
          },
          "metadata": {
            "tags": []
          },
          "execution_count": 2
        }
      ]
    },
    {
      "cell_type": "markdown",
      "metadata": {
        "id": "Y6Ic21mqdaGn"
      },
      "source": [
        "# Entendendo os dados"
      ]
    },
    {
      "cell_type": "markdown",
      "metadata": {
        "id": "CyQI39OIeDGn"
      },
      "source": [
        "O ponto mais importante do estudo seria verificar quais são os fatores que mais influenciam na cobrança do penâlti e assim conseguir realizar uma modelagem para simular cobranças. Nesse sentido, em face dos dados obtidos, há também a possibilidade de obter estatísiticas do futebol brasileiro, tanto pelo batedor quanto do goleiro."
      ]
    },
    {
      "cell_type": "code",
      "metadata": {
        "colab": {
          "base_uri": "https://localhost:8080/"
        },
        "id": "SBrsBJ8iz8e6",
        "outputId": "8f76a1cf-908b-48f5-aeb3-9c62c5fb8cc3"
      },
      "source": [
        "Penalti_dataset.info()"
      ],
      "execution_count": null,
      "outputs": [
        {
          "output_type": "stream",
          "text": [
            "<class 'pandas.core.frame.DataFrame'>\n",
            "RangeIndex: 135 entries, 0 to 134\n",
            "Data columns (total 11 columns):\n",
            " #   Column        Non-Null Count  Dtype \n",
            "---  ------        --------------  ----- \n",
            " 0   ID_Batedor    135 non-null    int64 \n",
            " 1   Nome_Batedor  135 non-null    object\n",
            " 2   Pe            135 non-null    object\n",
            " 3   Posicao       135 non-null    int64 \n",
            " 4   Resultado     135 non-null    int64 \n",
            " 5   Ocasiao       135 non-null    object\n",
            " 6   Forca         135 non-null    int64 \n",
            " 7   ID_Goleiro    135 non-null    int64 \n",
            " 8   Nome_Goleiro  135 non-null    object\n",
            " 9   Lado_Certo    135 non-null    int64 \n",
            " 10  Defesa        135 non-null    int64 \n",
            "dtypes: int64(7), object(4)\n",
            "memory usage: 11.7+ KB\n"
          ],
          "name": "stdout"
        }
      ]
    },
    {
      "cell_type": "code",
      "metadata": {
        "colab": {
          "base_uri": "https://localhost:8080/"
        },
        "id": "1lBVy_d-ahnI",
        "outputId": "8791079a-b728-4b38-e637-5b13d5d52633"
      },
      "source": [
        "sns.countplot(x=\"Resultado\",data= Penalti_dataset)"
      ],
      "execution_count": null,
      "outputs": [
        {
          "output_type": "execute_result",
          "data": {
            "text/plain": [
              "<matplotlib.axes._subplots.AxesSubplot at 0x7fd1e7afc350>"
            ]
          },
          "metadata": {
            "tags": []
          },
          "execution_count": 4
        },
        {
          "output_type": "display_data",
          "data": {
            "image/png": "[encoded data removed]",
            "text/plain": [
              "<Figure size 432x288 with 1 Axes>"
            ]
          },
          "metadata": {
            "tags": [],
            "needs_background": "light"
          }
        }
      ]
    },
    {
      "cell_type": "code",
      "metadata": {
        "colab": {
          "base_uri": "https://localhost:8080/"
        },
        "id": "YC9V2rcoaw13",
        "outputId": "fea85bf3-1c68-45f7-c248-65e21dd9017c"
      },
      "source": [
        "sns.countplot(x=\"Defesa\", hue=\"Lado_Certo\", data= Penalti_dataset)"
      ],
      "execution_count": null,
      "outputs": [
        {
          "output_type": "execute_result",
          "data": {
            "text/plain": [
              "<matplotlib.axes._subplots.AxesSubplot at 0x7fd1e79d8fd0>"
            ]
          },
          "metadata": {
            "tags": []
          },
          "execution_count": 5
        },
        {
          "output_type": "display_data",
          "data": {
            "image/png": "[encoded data removed]",
            "text/plain": [
              "<Figure size 432x288 with 1 Axes>"
            ]
          },
          "metadata": {
            "tags": [],
            "needs_background": "light"
          }
        }
      ]
    },
    {
      "cell_type": "code",
      "metadata": {
        "colab": {
          "base_uri": "https://localhost:8080/"
        },
        "id": "VPcBVZ5mbLpJ",
        "outputId": "72d05458-0145-4fcd-e99a-01f86d429478"
      },
      "source": [
        "Penalti_dataset.describe()"
      ],
      "execution_count": null,
      "outputs": [
        {
          "output_type": "execute_result",
          "data": {
            "text/html": [
              "<div>\n",
              "<style scoped>\n",
              "    .dataframe tbody tr th:only-of-type {\n",
              "        vertical-align: middle;\n",
              "    }\n",
              "\n",
              "    .dataframe tbody tr th {\n",
              "        vertical-align: top;\n",
              "    }\n",
              "\n",
              "    .dataframe thead th {\n",
              "        text-align: right;\n",
              "    }\n",
              "</style>\n",
              "<table border=\"1\" class=\"dataframe\">\n",
              "  <thead>\n",
              "    <tr style=\"text-align: right;\">\n",
              "      <th></th>\n",
              "      <th>ID_Batedor</th>\n",
              "      <th>Posicao</th>\n",
              "      <th>Resultado</th>\n",
              "      <th>Forca</th>\n",
              "      <th>ID_Goleiro</th>\n",
              "      <th>Lado_Certo</th>\n",
              "      <th>Defesa</th>\n",
              "    </tr>\n",
              "  </thead>\n",
              "  <tbody>\n",
              "    <tr>\n",
              "      <th>count</th>\n",
              "      <td>135.000000</td>\n",
              "      <td>135.000000</td>\n",
              "      <td>135.000000</td>\n",
              "      <td>135.000000</td>\n",
              "      <td>135.000000</td>\n",
              "      <td>135.000000</td>\n",
              "      <td>135.000000</td>\n",
              "    </tr>\n",
              "    <tr>\n",
              "      <th>mean</th>\n",
              "      <td>35.481481</td>\n",
              "      <td>3.844444</td>\n",
              "      <td>0.696296</td>\n",
              "      <td>0.585185</td>\n",
              "      <td>6.074074</td>\n",
              "      <td>0.459259</td>\n",
              "      <td>0.222222</td>\n",
              "    </tr>\n",
              "    <tr>\n",
              "      <th>std</th>\n",
              "      <td>20.435502</td>\n",
              "      <td>2.804226</td>\n",
              "      <td>0.461569</td>\n",
              "      <td>0.494525</td>\n",
              "      <td>6.357073</td>\n",
              "      <td>0.500193</td>\n",
              "      <td>0.417288</td>\n",
              "    </tr>\n",
              "    <tr>\n",
              "      <th>min</th>\n",
              "      <td>1.000000</td>\n",
              "      <td>1.000000</td>\n",
              "      <td>0.000000</td>\n",
              "      <td>0.000000</td>\n",
              "      <td>0.000000</td>\n",
              "      <td>0.000000</td>\n",
              "      <td>0.000000</td>\n",
              "    </tr>\n",
              "    <tr>\n",
              "      <th>25%</th>\n",
              "      <td>19.500000</td>\n",
              "      <td>2.000000</td>\n",
              "      <td>0.000000</td>\n",
              "      <td>0.000000</td>\n",
              "      <td>0.000000</td>\n",
              "      <td>0.000000</td>\n",
              "      <td>0.000000</td>\n",
              "    </tr>\n",
              "    <tr>\n",
              "      <th>50%</th>\n",
              "      <td>34.000000</td>\n",
              "      <td>3.000000</td>\n",
              "      <td>1.000000</td>\n",
              "      <td>1.000000</td>\n",
              "      <td>4.000000</td>\n",
              "      <td>0.000000</td>\n",
              "      <td>0.000000</td>\n",
              "    </tr>\n",
              "    <tr>\n",
              "      <th>75%</th>\n",
              "      <td>47.000000</td>\n",
              "      <td>5.000000</td>\n",
              "      <td>1.000000</td>\n",
              "      <td>1.000000</td>\n",
              "      <td>12.000000</td>\n",
              "      <td>1.000000</td>\n",
              "      <td>0.000000</td>\n",
              "    </tr>\n",
              "    <tr>\n",
              "      <th>max</th>\n",
              "      <td>79.000000</td>\n",
              "      <td>10.000000</td>\n",
              "      <td>1.000000</td>\n",
              "      <td>1.000000</td>\n",
              "      <td>19.000000</td>\n",
              "      <td>1.000000</td>\n",
              "      <td>1.000000</td>\n",
              "    </tr>\n",
              "  </tbody>\n",
              "</table>\n",
              "</div>"
            ],
            "text/plain": [
              "       ID_Batedor     Posicao   Resultado  ...  ID_Goleiro  Lado_Certo      Defesa\n",
              "count  135.000000  135.000000  135.000000  ...  135.000000  135.000000  135.000000\n",
              "mean    35.481481    3.844444    0.696296  ...    6.074074    0.459259    0.222222\n",
              "std     20.435502    2.804226    0.461569  ...    6.357073    0.500193    0.417288\n",
              "min      1.000000    1.000000    0.000000  ...    0.000000    0.000000    0.000000\n",
              "25%     19.500000    2.000000    0.000000  ...    0.000000    0.000000    0.000000\n",
              "50%     34.000000    3.000000    1.000000  ...    4.000000    0.000000    0.000000\n",
              "75%     47.000000    5.000000    1.000000  ...   12.000000    1.000000    0.000000\n",
              "max     79.000000   10.000000    1.000000  ...   19.000000    1.000000    1.000000\n",
              "\n",
              "[8 rows x 7 columns]"
            ]
          },
          "metadata": {
            "tags": []
          },
          "execution_count": 6
        }
      ]
    },
    {
      "cell_type": "code",
      "metadata": {
        "id": "U65n6Q4AuioN",
        "colab": {
          "base_uri": "https://localhost:8080/"
        },
        "outputId": "4e3e5648-0bfa-421f-ba6a-50c067a123d4"
      },
      "source": [
        "Penalti_dataset['Posicao'].plot.hist()"
      ],
      "execution_count": null,
      "outputs": [
        {
          "output_type": "execute_result",
          "data": {
            "text/plain": [
              "<matplotlib.axes._subplots.AxesSubplot at 0x7fd1e6a2a610>"
            ]
          },
          "metadata": {
            "tags": []
          },
          "execution_count": 7
        },
        {
          "output_type": "display_data",
          "data": {
            "image/png": "[encoded data removed]",
            "text/plain": [
              "<Figure size 432x288 with 1 Axes>"
            ]
          },
          "metadata": {
            "tags": [],
            "needs_background": "light"
          }
        }
      ]
    },
    {
      "cell_type": "code",
      "metadata": {
        "id": "7BqlkH8lyrTx",
        "colab": {
          "base_uri": "https://localhost:8080/"
        },
        "outputId": "3ec2831b-650e-4bbe-b8d0-ac2cd8eee861"
      },
      "source": [
        "sns.countplot(x=\"Posicao\", hue=\"Resultado\", data= Penalti_dataset)"
      ],
      "execution_count": null,
      "outputs": [
        {
          "output_type": "execute_result",
          "data": {
            "text/plain": [
              "<matplotlib.axes._subplots.AxesSubplot at 0x7fd1e69c2ad0>"
            ]
          },
          "metadata": {
            "tags": []
          },
          "execution_count": 8
        },
        {
          "output_type": "display_data",
          "data": {
            "image/png": "[encoded data removed]",
            "text/plain": [
              "<Figure size 432x288 with 1 Axes>"
            ]
          },
          "metadata": {
            "tags": [],
            "needs_background": "light"
          }
        }
      ]
    },
    {
      "cell_type": "code",
      "metadata": {
        "id": "bm_eqti5zAHp",
        "colab": {
          "base_uri": "https://localhost:8080/"
        },
        "outputId": "3c185721-df3f-4ec0-9eee-93aa61d894a3"
      },
      "source": [
        "sns.countplot(x=\"Posicao\", hue=\"Pe\", data= Penalti_dataset)"
      ],
      "execution_count": null,
      "outputs": [
        {
          "output_type": "execute_result",
          "data": {
            "text/plain": [
              "<matplotlib.axes._subplots.AxesSubplot at 0x7fd1e68f54d0>"
            ]
          },
          "metadata": {
            "tags": []
          },
          "execution_count": 9
        },
        {
          "output_type": "display_data",
          "data": {
            "image/png": "[encoded data removed]",
            "text/plain": [
              "<Figure size 432x288 with 1 Axes>"
            ]
          },
          "metadata": {
            "tags": [],
            "needs_background": "light"
          }
        }
      ]
    },
    {
      "cell_type": "code",
      "metadata": {
        "id": "dvZhNVcs09R5",
        "colab": {
          "base_uri": "https://localhost:8080/"
        },
        "outputId": "71131be3-49cd-4a8a-9175-92a9f3282fbe"
      },
      "source": [
        "sns.countplot(x='Resultado', hue=\"Ocasiao\", data= Penalti_dataset)"
      ],
      "execution_count": null,
      "outputs": [
        {
          "output_type": "execute_result",
          "data": {
            "text/plain": [
              "<matplotlib.axes._subplots.AxesSubplot at 0x7fd1e6886fd0>"
            ]
          },
          "metadata": {
            "tags": []
          },
          "execution_count": 10
        },
        {
          "output_type": "display_data",
          "data": {
            "image/png": "[encoded data removed]",
            "text/plain": [
              "<Figure size 432x288 with 1 Axes>"
            ]
          },
          "metadata": {
            "tags": [],
            "needs_background": "light"
          }
        }
      ]
    },
    {
      "cell_type": "code",
      "metadata": {
        "id": "uX34EKrhP7Up"
      },
      "source": [
        "Penalti_dataset = Penalti_dataset.sort_values(by='ID_Batedor',ignore_index= True)\n"
      ],
      "execution_count": null,
      "outputs": []
    },
    {
      "cell_type": "markdown",
      "metadata": {
        "id": "6fecrgPZdenW"
      },
      "source": [
        "# Preparando os dados"
      ]
    },
    {
      "cell_type": "code",
      "metadata": {
        "colab": {
          "base_uri": "https://localhost:8080/"
        },
        "id": "tlWOZGDSNb2j",
        "outputId": "cf9c46c2-a3fa-44da-e674-6bf52fc641ad"
      },
      "source": [
        "Penalti_dataset.isnull()"
      ],
      "execution_count": null,
      "outputs": [
        {
          "output_type": "execute_result",
          "data": {
            "text/html": [
              "<div>\n",
              "<style scoped>\n",
              "    .dataframe tbody tr th:only-of-type {\n",
              "        vertical-align: middle;\n",
              "    }\n",
              "\n",
              "    .dataframe tbody tr th {\n",
              "        vertical-align: top;\n",
              "    }\n",
              "\n",
              "    .dataframe thead th {\n",
              "        text-align: right;\n",
              "    }\n",
              "</style>\n",
              "<table border=\"1\" class=\"dataframe\">\n",
              "  <thead>\n",
              "    <tr style=\"text-align: right;\">\n",
              "      <th></th>\n",
              "      <th>ID_Batedor</th>\n",
              "      <th>Nome_Batedor</th>\n",
              "      <th>Pe</th>\n",
              "      <th>Posicao</th>\n",
              "      <th>Resultado</th>\n",
              "      <th>Ocasiao</th>\n",
              "      <th>Forca</th>\n",
              "      <th>ID_Goleiro</th>\n",
              "      <th>Nome_Goleiro</th>\n",
              "      <th>Lado_Certo</th>\n",
              "      <th>Defesa</th>\n",
              "    </tr>\n",
              "  </thead>\n",
              "  <tbody>\n",
              "    <tr>\n",
              "      <th>0</th>\n",
              "      <td>False</td>\n",
              "      <td>False</td>\n",
              "      <td>False</td>\n",
              "      <td>False</td>\n",
              "      <td>False</td>\n",
              "      <td>False</td>\n",
              "      <td>False</td>\n",
              "      <td>False</td>\n",
              "      <td>False</td>\n",
              "      <td>False</td>\n",
              "      <td>False</td>\n",
              "    </tr>\n",
              "    <tr>\n",
              "      <th>1</th>\n",
              "      <td>False</td>\n",
              "      <td>False</td>\n",
              "      <td>False</td>\n",
              "      <td>False</td>\n",
              "      <td>False</td>\n",
              "      <td>False</td>\n",
              "      <td>False</td>\n",
              "      <td>False</td>\n",
              "      <td>False</td>\n",
              "      <td>False</td>\n",
              "      <td>False</td>\n",
              "    </tr>\n",
              "    <tr>\n",
              "      <th>2</th>\n",
              "      <td>False</td>\n",
              "      <td>False</td>\n",
              "      <td>False</td>\n",
              "      <td>False</td>\n",
              "      <td>False</td>\n",
              "      <td>False</td>\n",
              "      <td>False</td>\n",
              "      <td>False</td>\n",
              "      <td>False</td>\n",
              "      <td>False</td>\n",
              "      <td>False</td>\n",
              "    </tr>\n",
              "    <tr>\n",
              "      <th>3</th>\n",
              "      <td>False</td>\n",
              "      <td>False</td>\n",
              "      <td>False</td>\n",
              "      <td>False</td>\n",
              "      <td>False</td>\n",
              "      <td>False</td>\n",
              "      <td>False</td>\n",
              "      <td>False</td>\n",
              "      <td>False</td>\n",
              "      <td>False</td>\n",
              "      <td>False</td>\n",
              "    </tr>\n",
              "    <tr>\n",
              "      <th>4</th>\n",
              "      <td>False</td>\n",
              "      <td>False</td>\n",
              "      <td>False</td>\n",
              "      <td>False</td>\n",
              "      <td>False</td>\n",
              "      <td>False</td>\n",
              "      <td>False</td>\n",
              "      <td>False</td>\n",
              "      <td>False</td>\n",
              "      <td>False</td>\n",
              "      <td>False</td>\n",
              "    </tr>\n",
              "    <tr>\n",
              "      <th>...</th>\n",
              "      <td>...</td>\n",
              "      <td>...</td>\n",
              "      <td>...</td>\n",
              "      <td>...</td>\n",
              "      <td>...</td>\n",
              "      <td>...</td>\n",
              "      <td>...</td>\n",
              "      <td>...</td>\n",
              "      <td>...</td>\n",
              "      <td>...</td>\n",
              "      <td>...</td>\n",
              "    </tr>\n",
              "    <tr>\n",
              "      <th>130</th>\n",
              "      <td>False</td>\n",
              "      <td>False</td>\n",
              "      <td>False</td>\n",
              "      <td>False</td>\n",
              "      <td>False</td>\n",
              "      <td>False</td>\n",
              "      <td>False</td>\n",
              "      <td>False</td>\n",
              "      <td>False</td>\n",
              "      <td>False</td>\n",
              "      <td>False</td>\n",
              "    </tr>\n",
              "    <tr>\n",
              "      <th>131</th>\n",
              "      <td>False</td>\n",
              "      <td>False</td>\n",
              "      <td>False</td>\n",
              "      <td>False</td>\n",
              "      <td>False</td>\n",
              "      <td>False</td>\n",
              "      <td>False</td>\n",
              "      <td>False</td>\n",
              "      <td>False</td>\n",
              "      <td>False</td>\n",
              "      <td>False</td>\n",
              "    </tr>\n",
              "    <tr>\n",
              "      <th>132</th>\n",
              "      <td>False</td>\n",
              "      <td>False</td>\n",
              "      <td>False</td>\n",
              "      <td>False</td>\n",
              "      <td>False</td>\n",
              "      <td>False</td>\n",
              "      <td>False</td>\n",
              "      <td>False</td>\n",
              "      <td>False</td>\n",
              "      <td>False</td>\n",
              "      <td>False</td>\n",
              "    </tr>\n",
              "    <tr>\n",
              "      <th>133</th>\n",
              "      <td>False</td>\n",
              "      <td>False</td>\n",
              "      <td>False</td>\n",
              "      <td>False</td>\n",
              "      <td>False</td>\n",
              "      <td>False</td>\n",
              "      <td>False</td>\n",
              "      <td>False</td>\n",
              "      <td>False</td>\n",
              "      <td>False</td>\n",
              "      <td>False</td>\n",
              "    </tr>\n",
              "    <tr>\n",
              "      <th>134</th>\n",
              "      <td>False</td>\n",
              "      <td>False</td>\n",
              "      <td>False</td>\n",
              "      <td>False</td>\n",
              "      <td>False</td>\n",
              "      <td>False</td>\n",
              "      <td>False</td>\n",
              "      <td>False</td>\n",
              "      <td>False</td>\n",
              "      <td>False</td>\n",
              "      <td>False</td>\n",
              "    </tr>\n",
              "  </tbody>\n",
              "</table>\n",
              "<p>135 rows × 11 columns</p>\n",
              "</div>"
            ],
            "text/plain": [
              "     ID_Batedor  Nome_Batedor     Pe  ...  Nome_Goleiro  Lado_Certo  Defesa\n",
              "0         False         False  False  ...         False       False   False\n",
              "1         False         False  False  ...         False       False   False\n",
              "2         False         False  False  ...         False       False   False\n",
              "3         False         False  False  ...         False       False   False\n",
              "4         False         False  False  ...         False       False   False\n",
              "..          ...           ...    ...  ...           ...         ...     ...\n",
              "130       False         False  False  ...         False       False   False\n",
              "131       False         False  False  ...         False       False   False\n",
              "132       False         False  False  ...         False       False   False\n",
              "133       False         False  False  ...         False       False   False\n",
              "134       False         False  False  ...         False       False   False\n",
              "\n",
              "[135 rows x 11 columns]"
            ]
          },
          "metadata": {
            "tags": []
          },
          "execution_count": 12
        }
      ]
    },
    {
      "cell_type": "code",
      "metadata": {
        "id": "mg9dZIbgOJ2z"
      },
      "source": [
        "torneio = pd.get_dummies(Penalti_dataset['Ocasiao'])\n",
        "PeDaCobranca = pd.get_dummies(Penalti_dataset['Pe'])\n",
        "Penalti_dataset['Gol'] = Penalti_dataset['Resultado']\n"
      ],
      "execution_count": null,
      "outputs": []
    },
    {
      "cell_type": "code",
      "metadata": {
        "id": "iLd1YZREOpOL"
      },
      "source": [
        "Penalti_dataset = pd.concat([PeDaCobranca,torneio,Penalti_dataset],axis=1)"
      ],
      "execution_count": null,
      "outputs": []
    },
    {
      "cell_type": "code",
      "metadata": {
        "id": "2VSDjlRKO9AC"
      },
      "source": [
        "Penalti_dataset.drop(['Pe', 'Ocasiao', 'ID_Batedor','Nome_Batedor','ID_Goleiro','Nome_Goleiro', 'Resultado'], axis=1, inplace=True)"
      ],
      "execution_count": null,
      "outputs": []
    },
    {
      "cell_type": "code",
      "metadata": {
        "colab": {
          "base_uri": "https://localhost:8080/"
        },
        "id": "SijE6C3aPNSj",
        "outputId": "870670cf-4717-4319-ffc5-5d1545dcd542"
      },
      "source": [
        "Penalti_dataset"
      ],
      "execution_count": null,
      "outputs": [
        {
          "output_type": "execute_result",
          "data": {
            "text/html": [
              "<div>\n",
              "<style scoped>\n",
              "    .dataframe tbody tr th:only-of-type {\n",
              "        vertical-align: middle;\n",
              "    }\n",
              "\n",
              "    .dataframe tbody tr th {\n",
              "        vertical-align: top;\n",
              "    }\n",
              "\n",
              "    .dataframe thead th {\n",
              "        text-align: right;\n",
              "    }\n",
              "</style>\n",
              "<table border=\"1\" class=\"dataframe\">\n",
              "  <thead>\n",
              "    <tr style=\"text-align: right;\">\n",
              "      <th></th>\n",
              "      <th>D</th>\n",
              "      <th>E</th>\n",
              "      <th>Campeonato</th>\n",
              "      <th>Copa</th>\n",
              "      <th>Posicao</th>\n",
              "      <th>Forca</th>\n",
              "      <th>Lado_Certo</th>\n",
              "      <th>Defesa</th>\n",
              "      <th>Gol</th>\n",
              "    </tr>\n",
              "  </thead>\n",
              "  <tbody>\n",
              "    <tr>\n",
              "      <th>0</th>\n",
              "      <td>0</td>\n",
              "      <td>1</td>\n",
              "      <td>0</td>\n",
              "      <td>1</td>\n",
              "      <td>5</td>\n",
              "      <td>1</td>\n",
              "      <td>0</td>\n",
              "      <td>0</td>\n",
              "      <td>1</td>\n",
              "    </tr>\n",
              "    <tr>\n",
              "      <th>1</th>\n",
              "      <td>1</td>\n",
              "      <td>0</td>\n",
              "      <td>0</td>\n",
              "      <td>1</td>\n",
              "      <td>1</td>\n",
              "      <td>1</td>\n",
              "      <td>1</td>\n",
              "      <td>0</td>\n",
              "      <td>1</td>\n",
              "    </tr>\n",
              "    <tr>\n",
              "      <th>2</th>\n",
              "      <td>1</td>\n",
              "      <td>0</td>\n",
              "      <td>0</td>\n",
              "      <td>1</td>\n",
              "      <td>2</td>\n",
              "      <td>0</td>\n",
              "      <td>0</td>\n",
              "      <td>0</td>\n",
              "      <td>1</td>\n",
              "    </tr>\n",
              "    <tr>\n",
              "      <th>3</th>\n",
              "      <td>0</td>\n",
              "      <td>1</td>\n",
              "      <td>0</td>\n",
              "      <td>1</td>\n",
              "      <td>10</td>\n",
              "      <td>0</td>\n",
              "      <td>0</td>\n",
              "      <td>0</td>\n",
              "      <td>0</td>\n",
              "    </tr>\n",
              "    <tr>\n",
              "      <th>4</th>\n",
              "      <td>0</td>\n",
              "      <td>1</td>\n",
              "      <td>0</td>\n",
              "      <td>1</td>\n",
              "      <td>4</td>\n",
              "      <td>1</td>\n",
              "      <td>0</td>\n",
              "      <td>0</td>\n",
              "      <td>1</td>\n",
              "    </tr>\n",
              "    <tr>\n",
              "      <th>...</th>\n",
              "      <td>...</td>\n",
              "      <td>...</td>\n",
              "      <td>...</td>\n",
              "      <td>...</td>\n",
              "      <td>...</td>\n",
              "      <td>...</td>\n",
              "      <td>...</td>\n",
              "      <td>...</td>\n",
              "      <td>...</td>\n",
              "    </tr>\n",
              "    <tr>\n",
              "      <th>130</th>\n",
              "      <td>0</td>\n",
              "      <td>1</td>\n",
              "      <td>0</td>\n",
              "      <td>1</td>\n",
              "      <td>9</td>\n",
              "      <td>1</td>\n",
              "      <td>0</td>\n",
              "      <td>0</td>\n",
              "      <td>1</td>\n",
              "    </tr>\n",
              "    <tr>\n",
              "      <th>131</th>\n",
              "      <td>1</td>\n",
              "      <td>0</td>\n",
              "      <td>0</td>\n",
              "      <td>1</td>\n",
              "      <td>1</td>\n",
              "      <td>1</td>\n",
              "      <td>1</td>\n",
              "      <td>0</td>\n",
              "      <td>1</td>\n",
              "    </tr>\n",
              "    <tr>\n",
              "      <th>132</th>\n",
              "      <td>1</td>\n",
              "      <td>0</td>\n",
              "      <td>0</td>\n",
              "      <td>1</td>\n",
              "      <td>8</td>\n",
              "      <td>1</td>\n",
              "      <td>0</td>\n",
              "      <td>0</td>\n",
              "      <td>1</td>\n",
              "    </tr>\n",
              "    <tr>\n",
              "      <th>133</th>\n",
              "      <td>1</td>\n",
              "      <td>0</td>\n",
              "      <td>0</td>\n",
              "      <td>1</td>\n",
              "      <td>2</td>\n",
              "      <td>1</td>\n",
              "      <td>1</td>\n",
              "      <td>1</td>\n",
              "      <td>0</td>\n",
              "    </tr>\n",
              "    <tr>\n",
              "      <th>134</th>\n",
              "      <td>1</td>\n",
              "      <td>0</td>\n",
              "      <td>0</td>\n",
              "      <td>1</td>\n",
              "      <td>2</td>\n",
              "      <td>0</td>\n",
              "      <td>0</td>\n",
              "      <td>0</td>\n",
              "      <td>1</td>\n",
              "    </tr>\n",
              "  </tbody>\n",
              "</table>\n",
              "<p>135 rows × 9 columns</p>\n",
              "</div>"
            ],
            "text/plain": [
              "     D  E  Campeonato  Copa  Posicao  Forca  Lado_Certo  Defesa  Gol\n",
              "0    0  1           0     1        5      1           0       0    1\n",
              "1    1  0           0     1        1      1           1       0    1\n",
              "2    1  0           0     1        2      0           0       0    1\n",
              "3    0  1           0     1       10      0           0       0    0\n",
              "4    0  1           0     1        4      1           0       0    1\n",
              "..  .. ..         ...   ...      ...    ...         ...     ...  ...\n",
              "130  0  1           0     1        9      1           0       0    1\n",
              "131  1  0           0     1        1      1           1       0    1\n",
              "132  1  0           0     1        8      1           0       0    1\n",
              "133  1  0           0     1        2      1           1       1    0\n",
              "134  1  0           0     1        2      0           0       0    1\n",
              "\n",
              "[135 rows x 9 columns]"
            ]
          },
          "metadata": {
            "tags": []
          },
          "execution_count": 16
        }
      ]
    },
    {
      "cell_type": "markdown",
      "metadata": {
        "id": "DRaVokQkdjVf"
      },
      "source": [
        "# Modelagem"
      ]
    },
    {
      "cell_type": "code",
      "metadata": {
        "id": "wW8tUrsXNc4z"
      },
      "source": [
        "X = Penalti_dataset.iloc[:,:-1]\n",
        "y = Penalti_dataset.iloc[:,-1]"
      ],
      "execution_count": null,
      "outputs": []
    },
    {
      "cell_type": "code",
      "metadata": {
        "id": "dPS1TFP2ugMc"
      },
      "source": [
        "from sklearn.model_selection  import train_test_split"
      ],
      "execution_count": null,
      "outputs": []
    },
    {
      "cell_type": "code",
      "metadata": {
        "id": "rV4aWUc3uhq7"
      },
      "source": [
        "X_train, X_test, y_train, y_test = train_test_split(X, y, test_size = 0.4, random_state=1)"
      ],
      "execution_count": null,
      "outputs": []
    },
    {
      "cell_type": "code",
      "metadata": {
        "id": "tcQzXRCaujgb"
      },
      "source": [
        "from sklearn.preprocessing import StandardScaler\n",
        "st = StandardScaler()\n",
        "X_train = st.fit_transform(X_train)\n",
        "X_test = st.fit_transform(X_test)"
      ],
      "execution_count": null,
      "outputs": []
    },
    {
      "cell_type": "code",
      "metadata": {
        "id": "0cmhcqcxulTC"
      },
      "source": [
        "from sklearn.linear_model import LogisticRegression"
      ],
      "execution_count": null,
      "outputs": []
    },
    {
      "cell_type": "code",
      "metadata": {
        "id": "u6rG3sFiulpr"
      },
      "source": [
        "logmodel = LogisticRegression()"
      ],
      "execution_count": null,
      "outputs": []
    },
    {
      "cell_type": "code",
      "metadata": {
        "colab": {
          "base_uri": "https://localhost:8080/"
        },
        "id": "VkOl-fuUum0K",
        "outputId": "72a3db2b-fd13-4c99-f78d-eae6344dfaa0"
      },
      "source": [
        "logmodel.fit(X_train, y_train)"
      ],
      "execution_count": null,
      "outputs": [
        {
          "output_type": "execute_result",
          "data": {
            "text/plain": [
              "LogisticRegression(C=1.0, class_weight=None, dual=False, fit_intercept=True,\n",
              "                   intercept_scaling=1, l1_ratio=None, max_iter=100,\n",
              "                   multi_class='auto', n_jobs=None, penalty='l2',\n",
              "                   random_state=None, solver='lbfgs', tol=0.0001, verbose=0,\n",
              "                   warm_start=False)"
            ]
          },
          "metadata": {
            "tags": []
          },
          "execution_count": 23
        }
      ]
    },
    {
      "cell_type": "code",
      "metadata": {
        "id": "jsjwBfoDuoej"
      },
      "source": [
        "predictions = logmodel.predict(X_test)"
      ],
      "execution_count": null,
      "outputs": []
    },
    {
      "cell_type": "code",
      "metadata": {
        "colab": {
          "base_uri": "https://localhost:8080/"
        },
        "id": "RB1kMpodK17y",
        "outputId": "91f66f76-14cd-4713-e052-75be8b596117"
      },
      "source": [
        "y_score = logmodel.predict_proba(X_test)[:,1]\n",
        "y_score"
      ],
      "execution_count": null,
      "outputs": [
        {
          "output_type": "execute_result",
          "data": {
            "text/plain": [
              "array([0.11179538, 0.11179538, 0.56376833, 0.61484802, 0.99315534,\n",
              "       0.99281435, 0.56376833, 0.98677968, 0.86588686, 0.98727916,\n",
              "       0.57834619, 0.77798681, 0.16199178, 0.99113896, 0.13531622,\n",
              "       0.99315534, 0.30381177, 0.77798681, 0.99414773, 0.98677968,\n",
              "       0.39776853, 0.39776853, 0.19149744, 0.4106829 , 0.98114386,\n",
              "       0.8618474 , 0.98927037, 0.30381177, 0.99546714, 0.90423218,\n",
              "       0.98911419, 0.94810377, 0.98916433, 0.94810377, 0.98361566,\n",
              "       0.97022364, 0.991169  , 0.99155878, 0.98669442, 0.1345557 ,\n",
              "       0.98677968, 0.99155878, 0.98669442, 0.95723753, 0.61484802,\n",
              "       0.72854037, 0.98455726, 0.4267534 , 0.56376833, 0.95723753,\n",
              "       0.97133044, 0.11179538, 0.19149744, 0.97993109])"
            ]
          },
          "metadata": {
            "tags": []
          },
          "execution_count": 25
        }
      ]
    },
    {
      "cell_type": "markdown",
      "metadata": {
        "id": "arMqhcET_0GF"
      },
      "source": [
        "# Avaliação"
      ]
    },
    {
      "cell_type": "code",
      "metadata": {
        "id": "XlhB2LOVupyD"
      },
      "source": [
        "from sklearn.metrics import classification_report\n",
        "from sklearn.metrics import roc_curve"
      ],
      "execution_count": null,
      "outputs": []
    },
    {
      "cell_type": "code",
      "metadata": {
        "colab": {
          "base_uri": "https://localhost:8080/"
        },
        "id": "kFkzCoD0urJK",
        "outputId": "dff29cd4-99e3-44a8-cd4a-b22d1319db40"
      },
      "source": [
        "classification_report(y_test, predictions)"
      ],
      "execution_count": null,
      "outputs": [
        {
          "output_type": "execute_result",
          "data": {
            "application/vnd.google.colaboratory.intrinsic+json": {
              "type": "string"
            },
            "text/plain": [
              "'              precision    recall  f1-score   support\\n\\n           0       1.00      0.61      0.76        23\\n           1       0.78      1.00      0.87        31\\n\\n    accuracy                           0.83        54\\n   macro avg       0.89      0.80      0.81        54\\nweighted avg       0.87      0.83      0.82        54\\n'"
            ]
          },
          "metadata": {
            "tags": []
          },
          "execution_count": 27
        }
      ]
    },
    {
      "cell_type": "code",
      "metadata": {
        "id": "JiWHL_KPusjS"
      },
      "source": [
        "from sklearn.metrics import confusion_matrix\n",
        "from sklearn.metrics import plot_confusion_matrix"
      ],
      "execution_count": null,
      "outputs": []
    },
    {
      "cell_type": "code",
      "metadata": {
        "colab": {
          "base_uri": "https://localhost:8080/"
        },
        "id": "Us5GXmzvuuka",
        "outputId": "8a5c46a5-9ce4-46ca-a59e-226ff9915e1f"
      },
      "source": [
        "confusion_matrix(y_test,predictions)"
      ],
      "execution_count": null,
      "outputs": [
        {
          "output_type": "execute_result",
          "data": {
            "text/plain": [
              "array([[14,  9],\n",
              "       [ 0, 31]])"
            ]
          },
          "metadata": {
            "tags": []
          },
          "execution_count": 29
        }
      ]
    },
    {
      "cell_type": "code",
      "metadata": {
        "colab": {
          "base_uri": "https://localhost:8080/"
        },
        "id": "vjZHnm0OGcND",
        "outputId": "9b574c33-b875-4190-cfd1-aa22e8647839"
      },
      "source": [
        "plot_confusion_matrix(logmodel, X_test,y_test, xticks_rotation='horizontal')"
      ],
      "execution_count": null,
      "outputs": [
        {
          "output_type": "execute_result",
          "data": {
            "text/plain": [
              "<sklearn.metrics._plot.confusion_matrix.ConfusionMatrixDisplay at 0x7fd1e3635810>"
            ]
          },
          "metadata": {
            "tags": []
          },
          "execution_count": 30
        },
        {
          "output_type": "display_data",
          "data": {
            "image/png": "[encoded data removed]",
            "text/plain": [
              "<Figure size 432x288 with 2 Axes>"
            ]
          },
          "metadata": {
            "tags": [],
            "needs_background": "light"
          }
        }
      ]
    },
    {
      "cell_type": "code",
      "metadata": {
        "id": "v7UZpGxNuvmb"
      },
      "source": [
        "from sklearn.metrics import accuracy_score"
      ],
      "execution_count": null,
      "outputs": []
    },
    {
      "cell_type": "code",
      "metadata": {
        "colab": {
          "base_uri": "https://localhost:8080/"
        },
        "id": "7WRwLTEUuw2Z",
        "outputId": "aed835f1-83e3-4be8-aba5-6031b3188239"
      },
      "source": [
        "accuracy_score(y_test, predictions)*100"
      ],
      "execution_count": null,
      "outputs": [
        {
          "output_type": "execute_result",
          "data": {
            "text/plain": [
              "83.33333333333334"
            ]
          },
          "metadata": {
            "tags": []
          },
          "execution_count": 32
        }
      ]
    },
    {
      "cell_type": "code",
      "metadata": {
        "colab": {
          "base_uri": "https://localhost:8080/"
        },
        "id": "e-1KYGIDuyFD",
        "outputId": "711da0d5-a51c-42e9-dec5-3a6e9edea5e5"
      },
      "source": [
        "incorrect_pred = (y_test != predictions).sum()\n",
        "incorrect_pred"
      ],
      "execution_count": null,
      "outputs": [
        {
          "output_type": "execute_result",
          "data": {
            "text/plain": [
              "9"
            ]
          },
          "metadata": {
            "tags": []
          },
          "execution_count": 33
        }
      ]
    },
    {
      "cell_type": "code",
      "metadata": {
        "colab": {
          "base_uri": "https://localhost:8080/"
        },
        "id": "VthqtWaLuzq5",
        "outputId": "3543d170-6985-4761-b746-694ed368bcca"
      },
      "source": [
        "correct_pred = (y_test == predictions).sum()\n",
        "correct_pred"
      ],
      "execution_count": null,
      "outputs": [
        {
          "output_type": "execute_result",
          "data": {
            "text/plain": [
              "45"
            ]
          },
          "metadata": {
            "tags": []
          },
          "execution_count": 34
        }
      ]
    },
    {
      "cell_type": "code",
      "metadata": {
        "id": "4VWlLT3DI_I6"
      },
      "source": [
        "fpr, tpr, thresholds = roc_curve(y_test,y_score)"
      ],
      "execution_count": null,
      "outputs": []
    },
    {
      "cell_type": "code",
      "metadata": {
        "id": "BdRRmT3phwRb"
      },
      "source": [
        "def plot_roc_curve(fpr, tpr):\n",
        "    plt.plot(fpr, tpr, color='orange', label='ROC')\n",
        "    plt.plot([0, 1], [0, 1], color='darkblue', linestyle='--')\n",
        "    plt.xlabel('False Positive Rate')\n",
        "    plt.ylabel('True Positive Rate')\n",
        "    plt.title('Receiver Operating Characteristic (ROC) Curve')\n",
        "    plt.legend()\n",
        "    plt.show()"
      ],
      "execution_count": null,
      "outputs": []
    },
    {
      "cell_type": "code",
      "metadata": {
        "colab": {
          "base_uri": "https://localhost:8080/"
        },
        "id": "bRXIdX0JiIRz",
        "outputId": "cdfe6aec-adfa-4e49-f6c2-54f57b9933bb"
      },
      "source": [
        "plot_roc_curve(fpr,tpr)"
      ],
      "execution_count": null,
      "outputs": [
        {
          "output_type": "display_data",
          "data": {
            "image/png": "[encoded data removed]",
            "text/plain": [
              "<Figure size 432x288 with 1 Axes>"
            ]
          },
          "metadata": {
            "tags": [],
            "needs_background": "light"
          }
        }
      ]
    },
    {
      "cell_type": "code",
      "metadata": {
        "id": "UQYNQVGxNePL"
      },
      "source": [
        ""
      ],
      "execution_count": null,
      "outputs": []
    }
  ]
}